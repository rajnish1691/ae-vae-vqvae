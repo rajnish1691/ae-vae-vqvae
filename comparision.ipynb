{
  "cells": [
    {
      "cell_type": "markdown",
      "metadata": {
        "id": "ZJj8fj8KziJ4"
      },
      "source": [
        "# Comparision b/w AE, VAE and VQ-VAE"
      ]
    },
    {
      "cell_type": "code",
      "execution_count": 6,
      "metadata": {},
      "outputs": [
        {
          "name": "stdout",
          "output_type": "stream",
          "text": [
            "Latest AE run   : output\\ae_20250925_001234\n",
            "Latest VAE run  : output\\vae_20250925_021453\n",
            "Latest VQ-VAE   : output\\vqvae_20250925_040159\n"
          ]
        }
      ],
      "source": [
        "# Load latest metrics for AE / VAE / VQ-VAE\n",
        "import json, os\n",
        "from pathlib import Path\n",
        "import matplotlib.pyplot as plt\n",
        "\n",
        "out_root = Path(\"./output\")\n",
        "\n",
        "def find_latest(prefix: str, root: Path) -> Path | None:\n",
        "    \"\"\"Return path to latest subdir starting with prefix, else None.\"\"\"\n",
        "    cands = [p for p in root.glob(f\"{prefix}*\") if p.is_dir()]\n",
        "    if not cands:\n",
        "        return None\n",
        "    # sort by modified time\n",
        "    cands.sort(key=lambda p: p.stat().st_mtime, reverse=True)\n",
        "    return cands[0]\n",
        "\n",
        "def load_metrics(run_dir: Path) -> dict | None:\n",
        "    if run_dir is None: \n",
        "        return None\n",
        "    mpath = run_dir / \"test_metrics.json\"\n",
        "    if not mpath.exists():\n",
        "        return None\n",
        "    with open(mpath, \"r\") as f:\n",
        "        return json.load(f)\n",
        "\n",
        "ae_dir   = find_latest(\"ae_\", out_root)\n",
        "vae_dir  = find_latest(\"vae_\", out_root)\n",
        "vq_dir   = find_latest(\"vqvae_\", out_root)\n",
        "\n",
        "ae_m  = load_metrics(ae_dir)\n",
        "vae_m = load_metrics(vae_dir)\n",
        "vq_m  = load_metrics(vq_dir)\n",
        "\n",
        "print(\"Latest AE run   :\", ae_dir)\n",
        "print(\"Latest VAE run  :\", vae_dir)\n",
        "print(\"Latest VQ-VAE   :\", vq_dir)"
      ]
    },
    {
      "cell_type": "code",
      "execution_count": 7,
      "metadata": {},
      "outputs": [
        {
          "name": "stdout",
          "output_type": "stream",
          "text": [
            "\n",
            "=== Test Metrics Summary ===\n",
            "Model  | Recon    | KL/Commit  | Total      | RelL1    | RelL2    | RunDir                      \n",
            "-------+----------+------------+------------+----------+----------+-----------------------------\n",
            "AE     | -        | -          | -          | 0.001654 | 0.004805 | output\\ae_20250925_001234   \n",
            "VAE    | 0.111535 | 810.255528 | 810.367064 | 0.124452 | 0.325637 | output\\vae_20250925_021453  \n",
            "VQ-VAE | 0.016061 | 0.003407   | 0.019468   | 0.026165 | 0.087432 | output\\vqvae_20250925_040159\n"
          ]
        }
      ],
      "source": [
        "# Build a unified comparison table\n",
        "def get_val(d: dict | None, key: str):\n",
        "    return None if d is None else d.get(key, None)\n",
        "\n",
        "rows = []\n",
        "rows.append({\n",
        "    \"Model\": \"AE\",\n",
        "    \"Recon\": get_val(ae_m, \"recon\"),          # AE didn't save recon; will show None\n",
        "    \"KL/Commit\": None,                        # not applicable\n",
        "    \"Total\": get_val(ae_m, \"total\"),          # AE didn't save total; None\n",
        "    \"RelL1\": get_val(ae_m, \"relL1\"),\n",
        "    \"RelL2\": get_val(ae_m, \"relL2\"),\n",
        "    \"RunDir\": str(ae_dir) if ae_dir else None,\n",
        "})\n",
        "rows.append({\n",
        "    \"Model\": \"VAE\",\n",
        "    \"Recon\": get_val(vae_m, \"recon\"),\n",
        "    \"KL/Commit\": get_val(vae_m, \"kl\"),\n",
        "    \"Total\": get_val(vae_m, \"total\"),\n",
        "    \"RelL1\": get_val(vae_m, \"relL1\"),\n",
        "    \"RelL2\": get_val(vae_m, \"relL2\"),\n",
        "    \"RunDir\": str(vae_dir) if vae_dir else None,\n",
        "})\n",
        "rows.append({\n",
        "    \"Model\": \"VQ-VAE\",\n",
        "    \"Recon\": get_val(vq_m, \"recon\"),\n",
        "    \"KL/Commit\": get_val(vq_m, \"commit\"),\n",
        "    \"Total\": get_val(vq_m, \"total\"),\n",
        "    \"RelL1\": get_val(vq_m, \"relL1\"),\n",
        "    \"RelL2\": get_val(vq_m, \"relL2\"),\n",
        "    \"RunDir\": str(vq_dir) if vq_dir else None,\n",
        "})\n",
        "\n",
        "# Pretty print (without pandas dependency)\n",
        "hdr = [\"Model\", \"Recon\", \"KL/Commit\", \"Total\", \"RelL1\", \"RelL2\", \"RunDir\"]\n",
        "colw = {h: max(len(h), max(len(f\"{r[h]:.6f}\") if isinstance(r[h], float) else len(str(r[h] or \"\")) for r in rows)) for h in hdr}\n",
        "\n",
        "def fmt_cell(v):\n",
        "    if v is None: return \"-\"\n",
        "    return f\"{v:.6f}\" if isinstance(v, float) else str(v)\n",
        "\n",
        "print(\"\\n=== Test Metrics Summary ===\")\n",
        "print(\" | \".join(h.ljust(colw[h]) for h in hdr))\n",
        "print(\"-+-\".join(\"-\"*colw[h] for h in hdr))\n",
        "for r in rows:\n",
        "    print(\" | \".join(fmt_cell(r[h]).ljust(colw[h]) for h in hdr))"
      ]
    },
    {
      "cell_type": "code",
      "execution_count": null,
      "metadata": {},
      "outputs": [
        {
          "data": {
            "image/png": "[encoded data removed]",
            "text/plain": [
              "<Figure size 500x400 with 1 Axes>"
            ]
          },
          "metadata": {},
          "output_type": "display_data"
        }
      ],
      "source": [
        "# Plot Relative L2 for side-by-side comparison\n",
        "labels, relL2_vals = [], []\n",
        "for r in rows:\n",
        "    if r[\"RelL2\"] is not None:\n",
        "        labels.append(r[\"Model\"])\n",
        "        relL2_vals.append(r[\"RelL2\"])\n",
        "\n",
        "plt.figure(figsize=(5,5))\n",
        "plt.bar(labels, relL2_vals)  # (no explicit colors/styles)\n",
        "plt.ylabel(\"Relative L2 (↓ better)\")\n",
        "plt.title(\"AE vs VAE vs VQ-VAE — Test Relative L2\")\n",
        "for i, v in enumerate(relL2_vals):\n",
        "    plt.text(i, v, f\"{v:.4f}\", ha=\"center\", va=\"bottom\")\n",
        "plt.show()"
      ]
    },
    {
      "cell_type": "code",
      "execution_count": 9,
      "metadata": {},
      "outputs": [
        {
          "name": "stdout",
          "output_type": "stream",
          "text": [
            "VAE: -6676.41% Relative L2 vs AE\n",
            "VQ-VAE: -1719.43% Relative L2 vs AE\n"
          ]
        }
      ],
      "source": [
        "# Show % improvement vs AE on Relative L2 (if AE available)\n",
        "ae_relL2 = rows[0][\"RelL2\"]\n",
        "if isinstance(ae_relL2, float):\n",
        "    for r in rows[1:]:\n",
        "        if isinstance(r[\"RelL2\"], float):\n",
        "            imp = 100.0 * (ae_relL2 - r[\"RelL2\"]) / ae_relL2\n",
        "            print(f\"{r['Model']}: {imp:+.2f}% Relative L2 vs AE\")\n",
        "else:\n",
        "    print(\"AE Relative L2 missing; skipping improvement calc.\")"
      ]
    },
    {
      "cell_type": "code",
      "execution_count": 10,
      "metadata": {},
      "outputs": [
        {
          "name": "stdout",
          "output_type": "stream",
          "text": [
            "\n",
            "AE images: []\n",
            "VAE images: ['output\\\\vae_20250925_021453\\\\vae_test_best_pair.png', 'output\\\\vae_20250925_021453\\\\vae_test_median_pair.png', 'output\\\\vae_20250925_021453\\\\vae_test_worst_pair.png', 'output\\\\vae_20250925_021453\\\\vae_samples_prior.png']\n",
            "VQ-VAE images: ['output\\\\vqvae_20250925_040159\\\\vqvae_test_best_pair.png', 'output\\\\vqvae_20250925_040159\\\\vqvae_test_median_pair.png', 'output\\\\vqvae_20250925_040159\\\\vqvae_test_worst_pair.png', 'output\\\\vqvae_20250925_040159\\\\vqvae_samples_empirical.png', 'output\\\\vqvae_20250925_040159\\\\vqvae_samples_uniform.png']\n"
          ]
        }
      ],
      "source": [
        "# Quick pointers to saved comparison images (worst/median/best, samples)\n",
        "def list_outputs(run_dir: Path | None, prefix: str):\n",
        "    if not run_dir: return []\n",
        "    patterns = [f\"{prefix}_test_best_pair.png\", f\"{prefix}_test_median_pair.png\", f\"{prefix}_test_worst_pair.png\",\n",
        "                f\"{prefix}_samples*.png\"]\n",
        "    found = []\n",
        "    for pat in patterns:\n",
        "        found.extend(run_dir.glob(pat))\n",
        "    return found\n",
        "\n",
        "print(\"\\nAE images:\", [str(p) for p in list_outputs(ae_dir, \"test\")])  # AE uses 'test_*_pair.png'\n",
        "print(\"VAE images:\", [str(p) for p in list_outputs(vae_dir, \"vae\")])   # VAE uses 'vae_*'\n",
        "print(\"VQ-VAE images:\", [str(p) for p in list_outputs(vq_dir, \"vqvae\")])  # VQ-VAE uses 'vqvae_*'"
      ]
    }
  ],
  "metadata": {
    "colab": {
      "provenance": []
    },
    "kernelspec": {
      "display_name": "ae-vae-vqvae",
      "language": "python",
      "name": "python3"
    },
    "language_info": {
      "codemirror_mode": {
        "name": "ipython",
        "version": 3
      },
      "file_extension": ".py",
      "mimetype": "text/x-python",
      "name": "python",
      "nbconvert_exporter": "python",
      "pygments_lexer": "ipython3",
      "version": "3.11.9"
    }
  },
  "nbformat": 4,
  "nbformat_minor": 0
}
