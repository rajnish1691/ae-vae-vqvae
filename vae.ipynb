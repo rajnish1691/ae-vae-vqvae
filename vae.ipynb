{
  "cells": [
    {
      "cell_type": "markdown",
      "metadata": {
        "id": "ZJj8fj8KziJ4"
      },
      "source": [
        "# Variational AutoEncoder (VAE) Implementation in PyTorch"
      ]
    },
    {
      "cell_type": "code",
      "execution_count": null,
      "metadata": {},
      "outputs": [],
      "source": [
        "# Variational Autoencoder (VAE)\n",
        "# - Dataset: MNIST\n",
        "# - Train/Val split: 70/30 of the 60k \"train\" file\n",
        "# - Test: fixed 10k \"t10k\" file"
      ]
    },
    {
      "cell_type": "code",
      "execution_count": null,
      "metadata": {},
      "outputs": [],
      "source": [
        "# Imports\n",
        "import time, math, json, struct, gzip\n",
        "from pathlib import Path\n",
        "import numpy as np\n",
        "import torch\n",
        "import torch.nn as nn\n",
        "import torch.nn.functional as F\n",
        "from torch.utils.data import Dataset, DataLoader, random_split\n",
        "from torchvision import transforms\n",
        "from torchvision.utils import make_grid\n",
        "import matplotlib.pyplot as plt\n",
        "from PIL import Image"
      ]
    },
    {
      "cell_type": "code",
      "execution_count": 3,
      "metadata": {},
      "outputs": [
        {
          "name": "stdout",
          "output_type": "stream",
          "text": [
            "Device     : cpu\n",
            "Train dir  : /Users/admin/Documents/workspace/code/github/ae-vae-vqvae/mnist/train\n",
            "Test dir   : /Users/admin/Documents/workspace/code/github/ae-vae-vqvae/mnist/test\n",
            "Run folder : /Users/admin/Documents/workspace/code/github/ae-vae-vqvae/output/vae_20250925_021453\n",
            "VAE: latent=32, beta=1.0, warmup=3 epochs\n"
          ]
        }
      ],
      "source": [
        "# Config\n",
        "class VCfg:\n",
        "    # Paths\n",
        "    ROOT      = Path(\".\")\n",
        "    DATA_DIR  = ROOT / \"mnist\"\n",
        "    TRAIN_DIR = DATA_DIR / \"train\"\n",
        "    TEST_DIR  = DATA_DIR / \"test\"\n",
        "\n",
        "    # Splits\n",
        "    TRAIN_FRACTION = 0.70\n",
        "\n",
        "    # Training \n",
        "    BATCH_SIZE   = 256\n",
        "    EPOCHS       = 10\n",
        "    LR           = 1e-3\n",
        "    WEIGHT_DECAY = 1e-4\n",
        "    NUM_WORKERS  = 0\n",
        "    AMP          = False\n",
        "\n",
        "    # Early stopping\n",
        "    PATIENCE  = 3\n",
        "    MIN_DELTA = 1e-5\n",
        "\n",
        "    # VAE-specific\n",
        "    LATENT_DIM        = 32    # 16/32/64\n",
        "    BETA              = 1.0   # β-VAE coefficient on KL\n",
        "    KL_WARMUP_EPOCHS  = 3     # linearly ramp 0→β over first K epochs\n",
        "\n",
        "    # Outputs\n",
        "    OUT_DIR  = ROOT / \"output\"\n",
        "    EXP_NAME = time.strftime(\"vae_%Y%m%d_%H%M%S\")\n",
        "\n",
        "    # Repro\n",
        "    SEED = 42\n",
        "\n",
        "vcfg = VCfg()\n",
        "\n",
        "# Create run folder\n",
        "vae_exp_dir = vcfg.OUT_DIR / vcfg.EXP_NAME\n",
        "vae_exp_dir.mkdir(parents=True, exist_ok=True)\n",
        "\n",
        "# Device & seeds\n",
        "device = torch.device(\"cuda\" if torch.cuda.is_available() else \"cpu\")\n",
        "if device.type == \"cuda\":\n",
        "    vcfg.AMP = True  # enable AMP automatically on GPU\n",
        "\n",
        "torch.manual_seed(vcfg.SEED)\n",
        "if torch.cuda.is_available():\n",
        "    torch.cuda.manual_seed_all(vcfg.SEED)\n",
        "\n",
        "print(\"Device     :\", device)\n",
        "print(\"Train dir  :\", vcfg.TRAIN_DIR.resolve())\n",
        "print(\"Test dir   :\", vcfg.TEST_DIR.resolve())\n",
        "print(\"Run folder :\", vae_exp_dir.resolve())\n",
        "print(f\"VAE: latent={vcfg.LATENT_DIM}, beta={vcfg.BETA}, warmup={vcfg.KL_WARMUP_EPOCHS} epochs\")"
      ]
    },
    {
      "cell_type": "code",
      "execution_count": null,
      "metadata": {},
      "outputs": [],
      "source": [
        "# Transforms\n",
        "from torchvision import transforms\n",
        "\n",
        "to_tensor_norm = transforms.Compose([\n",
        "    transforms.ToTensor(),                 # [0,1]\n",
        "    transforms.Normalize((0.5,), (0.5,))   # -> [-1,1]\n",
        "])\n",
        "inv_normalize = transforms.Normalize(mean=[-1*0.5/0.5], std=[1/0.5])"
      ]
    },
    {
      "cell_type": "code",
      "execution_count": 5,
      "metadata": {},
      "outputs": [],
      "source": [
        "#  Dataset\n",
        "import struct\n",
        "import numpy as np\n",
        "from PIL import Image\n",
        "import torch\n",
        "from torch.utils.data import Dataset, DataLoader, random_split\n",
        "\n",
        "def _open_idx(path: Path):\n",
        "    # Supports .idx3-ubyte and .idx3-ubyte.gz\n",
        "    return gzip.open(path, \"rb\") if path.suffix == \".gz\" else open(path, \"rb\")\n",
        "\n",
        "def parse_idx_images(path: Path) -> np.ndarray:\n",
        "    \"\"\"Parse IDX image file (magic 2051) → numpy uint8 array (N, 28, 28).\"\"\"\n",
        "    with _open_idx(path) as f:\n",
        "        header = f.read(16)\n",
        "        if len(header) != 16:\n",
        "            raise RuntimeError(f\"Malformed IDX header in {path}\")\n",
        "        magic, num, rows, cols = struct.unpack(\">IIII\", header)\n",
        "        if magic != 2051:\n",
        "            raise RuntimeError(f\"Invalid IDX magic {magic} in {path} (expected 2051)\")\n",
        "        data = np.frombuffer(f.read(), dtype=np.uint8)\n",
        "    return data.reshape(num, rows, cols)\n",
        "\n",
        "class MNISTIdxDataset(Dataset):\n",
        "    \"\"\"Wraps (N,28,28) uint8 images; target == input (unsupervised).\"\"\"\n",
        "    def __init__(self, images: np.ndarray, transform=None):\n",
        "        self.images = images\n",
        "        self.transform = transform\n",
        "    def __len__(self): return len(self.images)\n",
        "    def __getitem__(self, idx):\n",
        "        img = Image.fromarray(self.images[idx], mode=\"L\")\n",
        "        x = self.transform(img) if self.transform else transforms.ToTensor()(img)\n",
        "        return x, x"
      ]
    },
    {
      "cell_type": "code",
      "execution_count": 6,
      "metadata": {},
      "outputs": [
        {
          "name": "stdout",
          "output_type": "stream",
          "text": [
            "Train dir : /Users/admin/Documents/workspace/code/github/ae-vae-vqvae/mnist/train\n",
            "Test dir  : /Users/admin/Documents/workspace/code/github/ae-vae-vqvae/mnist/test\n",
            "Train IDX : /Users/admin/Documents/workspace/code/github/ae-vae-vqvae/mnist/train/train-images.idx3-ubyte\n",
            "Test  IDX : /Users/admin/Documents/workspace/code/github/ae-vae-vqvae/mnist/test/t10k-images.idx3-ubyte\n"
          ]
        }
      ],
      "source": [
        "# IDX file path\n",
        "def find_idx_in_dir(dir_path: Path, candidates):\n",
        "    # check exact names first, then recurse\n",
        "    for fn in candidates:\n",
        "        p = dir_path / fn\n",
        "        if p.exists(): return p\n",
        "    for p in dir_path.rglob(\"*\"):\n",
        "        if p.is_file() and p.name in candidates:\n",
        "            return p\n",
        "    return None\n",
        "\n",
        "train_candidates = [\n",
        "    \"train-images.idx3-ubyte\",\n",
        "    \"train-images-idx3-ubyte.gz\",\n",
        "]\n",
        "test_candidates = [\n",
        "    \"t10k-images.idx3-ubyte\",\n",
        "    \"t10k-images-idx3-ubyte.gz\",\n",
        "]\n",
        "\n",
        "train_dir = vcfg.TRAIN_DIR.resolve()\n",
        "test_dir  = vcfg.TEST_DIR.resolve()\n",
        "\n",
        "train_idx_path = find_idx_in_dir(train_dir, train_candidates)\n",
        "test_idx_path  = find_idx_in_dir(test_dir,  test_candidates)\n",
        "\n",
        "print(\"Train dir :\", train_dir)\n",
        "print(\"Test dir  :\", test_dir)\n",
        "print(\"Train IDX :\", train_idx_path)\n",
        "print(\"Test  IDX :\", test_idx_path)\n",
        "if train_idx_path is None:\n",
        "    raise RuntimeError(\"Could not find a train IDX in mnist/train. \"\n",
        "                       f\"Expected one of: {', '.join(train_candidates)}\")"
      ]
    },
    {
      "cell_type": "code",
      "execution_count": 7,
      "metadata": {},
      "outputs": [
        {
          "name": "stdout",
          "output_type": "stream",
          "text": [
            "Loaded train images: (60000, 28, 28)\n",
            "Loaded test images : (10000, 28, 28)\n",
            "Final splits → Train: 42000 | Val: 18000 | Test: 10000\n",
            "pin_memory: False | batch_size: 256 | workers: 0\n"
          ]
        }
      ],
      "source": [
        "# Build datasets, split, and dataloaders\n",
        "g = torch.Generator().manual_seed(vcfg.SEED)\n",
        "\n",
        "# Load IDX arrays\n",
        "train_images = parse_idx_images(train_idx_path)\n",
        "print(\"Loaded train images:\", train_images.shape)\n",
        "\n",
        "test_images = None\n",
        "if test_idx_path is not None:\n",
        "    test_images = parse_idx_images(test_idx_path)\n",
        "    print(\"Loaded test images :\", test_images.shape)\n",
        "else:\n",
        "    print(\"No separate test IDX found — will split single file 70/15/15.\")\n",
        "\n",
        "# Datasets & splits\n",
        "if test_images is not None:\n",
        "    full_ds = MNISTIdxDataset(train_images, transform=to_tensor_norm)\n",
        "    test_ds = MNISTIdxDataset(test_images,  transform=to_tensor_norm)\n",
        "\n",
        "    n_full  = len(full_ds)                      # 60_000\n",
        "    n_train = int(vcfg.TRAIN_FRACTION * n_full) # 42_000 (70%)\n",
        "    n_val   = n_full - n_train                  # 18_000 (30%)\n",
        "    train_ds, val_ds = random_split(full_ds, [n_train, n_val], generator=g)\n",
        "else:\n",
        "    full_ds = MNISTIdxDataset(train_images, transform=to_tensor_norm)\n",
        "    n_full  = len(full_ds)\n",
        "    n_train = int(vcfg.TRAIN_FRACTION * n_full) # 70%\n",
        "    n_rest  = n_full - n_train                  # 30%\n",
        "    n_val   = n_rest // 2                       # 15%\n",
        "    n_test  = n_rest - n_val                    # 15%\n",
        "    train_ds, val_ds, test_ds = random_split(full_ds, [n_train, n_val, n_test], generator=g)\n",
        "\n",
        "print(f\"Final splits → Train: {len(train_ds)} | Val: {len(val_ds)} | Test: {len(test_ds)}\")\n",
        "\n",
        "# DataLoaders (CPU-friendly defaults; adjust if on GPU)\n",
        "pin = (device.type == \"cuda\")\n",
        "train_loader = DataLoader(train_ds, batch_size=vcfg.BATCH_SIZE, shuffle=True,\n",
        "                          num_workers=vcfg.NUM_WORKERS, pin_memory=pin)\n",
        "val_loader   = DataLoader(val_ds,   batch_size=vcfg.BATCH_SIZE, shuffle=False,\n",
        "                          num_workers=vcfg.NUM_WORKERS, pin_memory=pin)\n",
        "test_loader  = DataLoader(test_ds,  batch_size=vcfg.BATCH_SIZE, shuffle=False,\n",
        "                          num_workers=vcfg.NUM_WORKERS, pin_memory=pin)\n",
        "\n",
        "print(\"pin_memory:\", pin, \"| batch_size:\", vcfg.BATCH_SIZE, \"| workers:\", vcfg.NUM_WORKERS)"
      ]
    },
    {
      "cell_type": "code",
      "execution_count": 8,
      "metadata": {},
      "outputs": [
        {
          "name": "stderr",
          "output_type": "stream",
          "text": [
            "/var/folders/cf/v0g4pk7s2sng485qdzddqbhc0000gn/T/ipykernel_15737/2058241223.py:31: DeprecationWarning: 'mode' parameter is deprecated and will be removed in Pillow 13 (2026-10-15)\n",
            "  img = Image.fromarray(self.images[idx], mode=\"L\")\n"
          ]
        },
        {
          "data": {
            "image/png": "[encoded data removed]",
            "text/plain": [
              "<Figure size 800x200 with 1 Axes>"
            ]
          },
          "metadata": {},
          "output_type": "display_data"
        }
      ],
      "source": [
        "# Quick sanity Check\n",
        "xb, _ = next(iter(train_loader))\n",
        "xb_vis = inv_normalize(xb[:8].cpu()).clamp(0,1)\n",
        "grid = make_grid(xb_vis, nrow=8, padding=2)\n",
        "plt.figure(figsize=(8,2))\n",
        "plt.axis('off'); plt.title(\"VAE — sample training images\")\n",
        "plt.imshow(np.transpose(grid.numpy(), (1,2,0)), cmap='gray')\n",
        "plt.show()"
      ]
    },
    {
      "cell_type": "code",
      "execution_count": 10,
      "metadata": {},
      "outputs": [],
      "source": [
        "# VAE model\n",
        "# - Conv encoder → μ, logσ²\n",
        "# - Reparameterization: z = μ + σ ⊙ ε\n",
        "# - ConvTranspose decoder → tanh output in [-1,1]\n",
        "\n",
        "class ConvBlock(nn.Module):\n",
        "    def __init__(self, cin, cout):\n",
        "        super().__init__()\n",
        "        self.net = nn.Sequential(\n",
        "            nn.Conv2d(cin, cout, 3, padding=1),\n",
        "            nn.GroupNorm(8, cout),\n",
        "            nn.SiLU(),\n",
        "            nn.Conv2d(cout, cout, 3, padding=1),\n",
        "            nn.GroupNorm(8, cout),\n",
        "            nn.SiLU(),\n",
        "        )\n",
        "    def forward(self, x): return self.net(x)\n",
        "\n",
        "class Down(nn.Module):\n",
        "    \"\"\"ConvBlock then stride-2 downsample.\"\"\"\n",
        "    def __init__(self, cin, cout):\n",
        "        super().__init__()\n",
        "        self.block = ConvBlock(cin, cout)\n",
        "        self.down = nn.Conv2d(cout, cout, kernel_size=2, stride=2)\n",
        "    def forward(self, x):\n",
        "        x = self.block(x)\n",
        "        x = self.down(x)  # /2\n",
        "        return x\n",
        "\n",
        "class UpDec(nn.Module):\n",
        "    \"\"\"Stride-2 upsample then ConvBlock.\"\"\"\n",
        "    def __init__(self, cin, cout):\n",
        "        super().__init__()\n",
        "        self.up = nn.ConvTranspose2d(cin, cout, kernel_size=2, stride=2)\n",
        "        self.block = ConvBlock(cout, cout)\n",
        "    def forward(self, x):\n",
        "        x = self.up(x)    # *2\n",
        "        x = self.block(x)\n",
        "        return x\n",
        "\n",
        "class VAE(nn.Module):\n",
        "    def __init__(self, latent_dim=32):\n",
        "        super().__init__()\n",
        "        self.latent_dim = latent_dim\n",
        "\n",
        "        # Encoder: 28x28 -> 14x14 -> 7x7\n",
        "        self.enc_in = nn.Conv2d(1, 32, 3, padding=1)\n",
        "        self.enc_d1 = Down(32, 64)    # -> 14x14\n",
        "        self.enc_d2 = Down(64, 128)   # -> 7x7\n",
        "        self.enc_mid = ConvBlock(128, 128)\n",
        "\n",
        "        # To latent\n",
        "        self.flat_dim = 128 * 7 * 7\n",
        "        self.fc_mu     = nn.Linear(self.flat_dim, latent_dim)\n",
        "        self.fc_logvar = nn.Linear(self.flat_dim, latent_dim)\n",
        "\n",
        "        # From latent\n",
        "        self.fc_z = nn.Linear(latent_dim, self.flat_dim)\n",
        "\n",
        "        # Decoder: 7x7 -> 14x14 -> 28x28\n",
        "        self.dec_mid = ConvBlock(128, 128)\n",
        "        self.dec_u1  = UpDec(128, 64)   # -> 14x14\n",
        "        self.dec_u0  = UpDec(64, 32)    # -> 28x28\n",
        "        self.dec_out = nn.Sequential(\n",
        "            nn.Conv2d(32, 16, 3, padding=1),\n",
        "            nn.SiLU(),\n",
        "            nn.Conv2d(16, 1, 1),\n",
        "            nn.Tanh()                   # [-1, 1]\n",
        "        )\n",
        "\n",
        "    def encode(self, x):\n",
        "        h = self.enc_in(x)\n",
        "        h = self.enc_d1(h)\n",
        "        h = self.enc_d2(h)\n",
        "        h = self.enc_mid(h)\n",
        "        h = h.flatten(1)               # (B, flat_dim)\n",
        "        mu     = self.fc_mu(h)\n",
        "        logvar = self.fc_logvar(h)\n",
        "        return mu, logvar\n",
        "\n",
        "    @staticmethod\n",
        "    def reparameterize(mu, logvar):\n",
        "        std = torch.exp(0.5 * logvar)\n",
        "        eps = torch.randn_like(std)\n",
        "        return mu + eps * std\n",
        "\n",
        "    def decode(self, z):\n",
        "        h = self.fc_z(z).view(-1, 128, 7, 7)\n",
        "        h = self.dec_mid(h)\n",
        "        h = self.dec_u1(h)\n",
        "        h = self.dec_u0(h)\n",
        "        xhat = self.dec_out(h)\n",
        "        return xhat\n",
        "\n",
        "    def forward(self, x):\n",
        "        mu, logvar = self.encode(x)\n",
        "        z = self.reparameterize(mu, logvar)\n",
        "        xhat = self.decode(z)\n",
        "        return xhat, mu, logvar"
      ]
    },
    {
      "cell_type": "code",
      "execution_count": 11,
      "metadata": {},
      "outputs": [],
      "source": [
        "# VAE losses (reconstruction + KL)\n",
        "def vae_recon_loss(xhat, x):\n",
        "    # With inputs/output in [-1,1], L1/L2 hybrid works well (like AE)\n",
        "    l1 = F.l1_loss(xhat, x)\n",
        "    l2 = F.mse_loss(xhat, x)\n",
        "    return 0.5 * l1 + 0.5 * l2, l1.item(), l2.item()\n",
        "\n",
        "def vae_kl_loss(mu, logvar):\n",
        "    # KL(N(mu, sigma^2) || N(0,1)) per sample, then mean over batch\n",
        "    # = -0.5 * sum(1 + logvar - mu^2 - exp(logvar))\n",
        "    kld = -0.5 * (1 + logvar - mu.pow(2) - logvar.exp())\n",
        "    return kld.sum(dim=1).mean()\n",
        "\n",
        "def beta_warmup(epoch_idx, total_warmup_epochs, target_beta):\n",
        "    \"\"\"Linear ramp of β from 0 → target_beta over the first 'total_warmup_epochs'.\"\"\"\n",
        "    if total_warmup_epochs <= 0:\n",
        "        return target_beta\n",
        "    frac = min(1.0, max(0.0, epoch_idx / float(total_warmup_epochs)))\n",
        "    return target_beta * frac"
      ]
    },
    {
      "cell_type": "code",
      "execution_count": 12,
      "metadata": {},
      "outputs": [
        {
          "name": "stdout",
          "output_type": "stream",
          "text": [
            "VAE params (M): 1.698305\n",
            "Input  : (8, 1, 28, 28)\n",
            "Output : (8, 1, 28, 28)\n",
            "mu/logvar: (8, 32) (8, 32)\n"
          ]
        },
        {
          "name": "stderr",
          "output_type": "stream",
          "text": [
            "/var/folders/cf/v0g4pk7s2sng485qdzddqbhc0000gn/T/ipykernel_15737/2058241223.py:31: DeprecationWarning: 'mode' parameter is deprecated and will be removed in Pillow 13 (2026-10-15)\n",
            "  img = Image.fromarray(self.images[idx], mode=\"L\")\n"
          ]
        }
      ],
      "source": [
        "# Instantiate & quick shape sanity check\n",
        "vae = VAE(latent_dim=vcfg.LATENT_DIM).to(device)\n",
        "print(\"VAE params (M):\", sum(p.numel() for p in vae.parameters())/1e6)\n",
        "\n",
        "vae.eval()\n",
        "xb, _ = next(iter(train_loader))\n",
        "xb = xb.to(device)[:8]\n",
        "with torch.no_grad():\n",
        "    xhat, mu, logvar = vae(xb)\n",
        "print(\"Input  :\", tuple(xb.shape))\n",
        "print(\"Output :\", tuple(xhat.shape))\n",
        "print(\"mu/logvar:\", tuple(mu.shape), tuple(logvar.shape))\n",
        "assert xhat.shape == xb.shape, \"Decoder must reconstruct to (N,1,28,28)\"\n",
        "assert mu.shape[-1] == vcfg.LATENT_DIM and logvar.shape[-1] == vcfg.LATENT_DIM"
      ]
    },
    {
      "cell_type": "code",
      "execution_count": 13,
      "metadata": {},
      "outputs": [
        {
          "name": "stderr",
          "output_type": "stream",
          "text": [
            "/var/folders/cf/v0g4pk7s2sng485qdzddqbhc0000gn/T/ipykernel_15737/1385129466.py:13: FutureWarning: `torch.cuda.amp.GradScaler(args...)` is deprecated. Please use `torch.amp.GradScaler('cuda', args...)` instead.\n",
            "  scaler = torch.cuda.amp.GradScaler(enabled=vcfg.AMP)\n"
          ]
        }
      ],
      "source": [
        "# Training\n",
        "# - Loss: recon + β * KL  (β is linearly warmed up over first K epochs)\n",
        "# - Early stopping on **validation total loss**\n",
        "# - Saves:\n",
        "#     - `best_model.pt`  (weights only)\n",
        "#     - `best_val.ckpt`  (full checkpoint with optimizer state)\n",
        "#     - `last.ckpt`      (final state)\n",
        "#     - `history.json`   (curves for plotting)\n",
        "\n",
        "# Optimizer / scheduler / scaler\n",
        "optimizer = torch.optim.AdamW(vae.parameters(), lr=vcfg.LR, weight_decay=vcfg.WEIGHT_DECAY)\n",
        "scheduler = torch.optim.lr_scheduler.CosineAnnealingWarmRestarts(optimizer, T_0=max(5, vcfg.EPOCHS), T_mult=1)\n",
        "scaler = torch.cuda.amp.GradScaler(enabled=vcfg.AMP)\n",
        "\n",
        "best_path_weights = vae_exp_dir / \"best_model.pt\"\n",
        "best_path_ckpt    = vae_exp_dir / \"best_val.ckpt\"\n",
        "last_path_ckpt    = vae_exp_dir / \"last.ckpt\"\n",
        "\n",
        "def save_ckpt(path, model, optimizer, epoch, metrics: dict):\n",
        "    torch.save({\n",
        "        \"epoch\": epoch,\n",
        "        \"model\": model.state_dict(),\n",
        "        \"optimizer\": optimizer.state_dict(),\n",
        "        \"metrics\": metrics,\n",
        "        \"cfg\": vars(vcfg),\n",
        "    }, path)"
      ]
    },
    {
      "cell_type": "code",
      "execution_count": 14,
      "metadata": {},
      "outputs": [
        {
          "name": "stderr",
          "output_type": "stream",
          "text": [
            "/var/folders/cf/v0g4pk7s2sng485qdzddqbhc0000gn/T/ipykernel_15737/2058241223.py:31: DeprecationWarning: 'mode' parameter is deprecated and will be removed in Pillow 13 (2026-10-15)\n",
            "  img = Image.fromarray(self.images[idx], mode=\"L\")\n",
            "/var/folders/cf/v0g4pk7s2sng485qdzddqbhc0000gn/T/ipykernel_15737/2498209766.py:18: FutureWarning: `torch.cuda.amp.autocast(args...)` is deprecated. Please use `torch.amp.autocast('cuda', args...)` instead.\n",
            "  with torch.cuda.amp.autocast(enabled=vcfg.AMP):\n"
          ]
        },
        {
          "name": "stdout",
          "output_type": "stream",
          "text": [
            "Epoch 001 | β 0.000 | train total 0.23299 (rec 0.23299, kl 1207.76045) | val total 0.11301 (rec 0.11301, kl 814.46971)\n",
            "Epoch 002 | β 0.333 | train total 4.54391 (rec 0.28384, kl 12.78022) | val total 0.29458 (rec 0.27600, kl 0.05575)\n",
            "Epoch 003 | β 0.667 | train total 0.29288 (rec 0.27491, kl 0.02695) | val total 0.28278 (rec 0.27357, kl 0.01381)\n",
            "Epoch 004 | β 1.000 | train total 0.28479 (rec 0.27412, kl 0.01067) | val total 0.27956 (rec 0.27372, kl 0.00584)\n",
            "Early stopping.\n",
            "Loaded best weights from: /Users/admin/Documents/workspace/code/github/ae-vae-vqvae/output/vae_20250925_021453/best_model.pt\n"
          ]
        },
        {
          "name": "stderr",
          "output_type": "stream",
          "text": [
            "/var/folders/cf/v0g4pk7s2sng485qdzddqbhc0000gn/T/ipykernel_15737/2498209766.py:83: FutureWarning: You are using `torch.load` with `weights_only=False` (the current default value), which uses the default pickle module implicitly. It is possible to construct malicious pickle data which will execute arbitrary code during unpickling (See https://github.com/pytorch/pytorch/blob/main/SECURITY.md#untrusted-models for more details). In a future release, the default value for `weights_only` will be flipped to `True`. This limits the functions that could be executed during unpickling. Arbitrary objects will no longer be allowed to be loaded via this mode unless they are explicitly allowlisted by the user via `torch.serialization.add_safe_globals`. We recommend you start setting `weights_only=True` for any use case where you don't have full control of the loaded file. Please open an issue on GitHub for any issues related to this experimental feature.\n",
            "  vae.load_state_dict(torch.load(best_path_weights, map_location=device))\n"
          ]
        }
      ],
      "source": [
        "# Train loop with β-warmup + early stopping\n",
        "best_val = float(\"inf\")\n",
        "no_improve = 0\n",
        "history = {\"train_total\": [], \"train_recon\": [], \"train_kl\": [],\n",
        "           \"val_total\": [], \"val_recon\": [], \"val_kl\": [], \"beta\": []}\n",
        "\n",
        "for epoch in range(1, vcfg.EPOCHS + 1):\n",
        "    beta = beta_warmup(epoch_idx=epoch-1,\n",
        "                       total_warmup_epochs=vcfg.KL_WARMUP_EPOCHS,\n",
        "                       target_beta=vcfg.BETA)\n",
        "\n",
        "    # ---- Train ----\n",
        "    vae.train()\n",
        "    t_recon_vals, t_kl_vals, t_tot_vals = [], [], []\n",
        "    for xb, _ in train_loader:\n",
        "        xb = xb.to(device, non_blocking=True)\n",
        "        optimizer.zero_grad(set_to_none=True)\n",
        "        with torch.cuda.amp.autocast(enabled=vcfg.AMP):\n",
        "            xhat, mu, logvar = vae(xb)\n",
        "            recon, _, _ = vae_recon_loss(xhat, xb)\n",
        "            kl = vae_kl_loss(mu, logvar)\n",
        "            loss = recon + beta * kl\n",
        "        scaler.scale(loss).backward()\n",
        "        scaler.step(optimizer)\n",
        "        scaler.update()\n",
        "        t_recon_vals.append(recon.item())\n",
        "        t_kl_vals.append(kl.item())\n",
        "        t_tot_vals.append(loss.item())\n",
        "    scheduler.step(epoch)\n",
        "\n",
        "    # ---- Validate ----\n",
        "    vae.eval()\n",
        "    v_recon_vals, v_kl_vals, v_tot_vals = [], [], []\n",
        "    with torch.no_grad():\n",
        "        for xb, _ in val_loader:\n",
        "            xb = xb.to(device)\n",
        "            xhat, mu, logvar = vae(xb)\n",
        "            recon, _, _ = vae_recon_loss(xhat, xb)\n",
        "            kl = vae_kl_loss(mu, logvar)\n",
        "            total = recon + beta * kl\n",
        "            v_recon_vals.append(recon.item())\n",
        "            v_kl_vals.append(kl.item())\n",
        "            v_tot_vals.append(total.item())\n",
        "\n",
        "    train_recon = float(np.mean(t_recon_vals)) if t_recon_vals else float(\"inf\")\n",
        "    train_kl    = float(np.mean(t_kl_vals))    if t_kl_vals    else float(\"inf\")\n",
        "    train_total = float(np.mean(t_tot_vals))   if t_tot_vals   else float(\"inf\")\n",
        "    val_recon   = float(np.mean(v_recon_vals)) if v_recon_vals else float(\"inf\")\n",
        "    val_kl      = float(np.mean(v_kl_vals))    if v_kl_vals    else float(\"inf\")\n",
        "    val_total   = float(np.mean(v_tot_vals))   if v_tot_vals   else float(\"inf\")\n",
        "\n",
        "    history[\"train_total\"].append(train_total)\n",
        "    history[\"train_recon\"].append(train_recon)\n",
        "    history[\"train_kl\"].append(train_kl)\n",
        "    history[\"val_total\"].append(val_total)\n",
        "    history[\"val_recon\"].append(val_recon)\n",
        "    history[\"val_kl\"].append(val_kl)\n",
        "    history[\"beta\"].append(beta)\n",
        "\n",
        "    print(f\"Epoch {epoch:03d} | β {beta:.3f} | \"\n",
        "          f\"train total {train_total:.5f} (rec {train_recon:.5f}, kl {train_kl:.5f}) | \"\n",
        "          f\"val total {val_total:.5f} (rec {val_recon:.5f}, kl {val_kl:.5f})\")\n",
        "\n",
        "    # ---- Early stopping & best checkpoint (minimize val_total) ----\n",
        "    if best_val - val_total > vcfg.MIN_DELTA:\n",
        "        best_val = val_total\n",
        "        no_improve = 0\n",
        "        save_ckpt(best_path_ckpt, vae, optimizer, epoch,\n",
        "                  {\"val_total\": val_total, \"val_recon\": val_recon, \"val_kl\": val_kl, \"beta\": beta})\n",
        "        torch.save(vae.state_dict(), best_path_weights)\n",
        "    else:\n",
        "        no_improve += 1\n",
        "        if no_improve >= vcfg.PATIENCE:\n",
        "            print(\"Early stopping.\")\n",
        "            break\n",
        "\n",
        "# Save last & history\n",
        "save_ckpt(last_path_ckpt, vae, optimizer, epoch, {\"val_total\": val_total, \"beta\": beta})\n",
        "with open(vae_exp_dir / \"history.json\", \"w\") as f:\n",
        "    json.dump(history, f, indent=2)\n",
        "\n",
        "# Load best weights for downstream eval\n",
        "vae.load_state_dict(torch.load(best_path_weights, map_location=device))\n",
        "vae.eval()\n",
        "print(\"Loaded best weights from:\", best_path_weights.resolve())"
      ]
    },
    {
      "cell_type": "code",
      "execution_count": 15,
      "metadata": {},
      "outputs": [
        {
          "name": "stdout",
          "output_type": "stream",
          "text": [
            "Loaded best: /Users/admin/Documents/workspace/code/github/ae-vae-vqvae/output/vae_20250925_021453/best_model.pt\n"
          ]
        },
        {
          "name": "stderr",
          "output_type": "stream",
          "text": [
            "/var/folders/cf/v0g4pk7s2sng485qdzddqbhc0000gn/T/ipykernel_15737/2143385601.py:10: FutureWarning: You are using `torch.load` with `weights_only=False` (the current default value), which uses the default pickle module implicitly. It is possible to construct malicious pickle data which will execute arbitrary code during unpickling (See https://github.com/pytorch/pytorch/blob/main/SECURITY.md#untrusted-models for more details). In a future release, the default value for `weights_only` will be flipped to `True`. This limits the functions that could be executed during unpickling. Arbitrary objects will no longer be allowed to be loaded via this mode unless they are explicitly allowlisted by the user via `torch.serialization.add_safe_globals`. We recommend you start setting `weights_only=True` for any use case where you don't have full control of the loaded file. Please open an issue on GitHub for any issues related to this experimental feature.\n",
            "  vae.load_state_dict(torch.load(best_path_weights, map_location=device))\n"
          ]
        }
      ],
      "source": [
        "# Evaluation\n",
        "# - Test metrics: reconstruction, KL, total (= recon + β·KL), plus Relative L1 / L2\n",
        "\n",
        "# Ensure best weights are loaded\n",
        "try:\n",
        "    best_path_weights\n",
        "except NameError:\n",
        "    best_path_weights = vae_exp_dir / \"best_model.pt\"\n",
        "\n",
        "vae.load_state_dict(torch.load(best_path_weights, map_location=device))\n",
        "vae.eval()\n",
        "print(\"Loaded best:\", best_path_weights.resolve())"
      ]
    },
    {
      "cell_type": "code",
      "execution_count": 16,
      "metadata": {},
      "outputs": [
        {
          "name": "stderr",
          "output_type": "stream",
          "text": [
            "/var/folders/cf/v0g4pk7s2sng485qdzddqbhc0000gn/T/ipykernel_15737/2058241223.py:31: DeprecationWarning: 'mode' parameter is deprecated and will be removed in Pillow 13 (2026-10-15)\n",
            "  img = Image.fromarray(self.images[idx], mode=\"L\")\n"
          ]
        },
        {
          "name": "stdout",
          "output_type": "stream",
          "text": [
            "[TEST] recon: 0.111535 | KL: 810.255528 | total: 810.367064 (β=1.0)\n",
            "[TEST] Relative L1: 0.124452 | Relative L2: 0.325637\n",
            "Saved metrics to: /Users/admin/Documents/workspace/code/github/ae-vae-vqvae/output/vae_20250925_021453/test_metrics.json\n"
          ]
        }
      ],
      "source": [
        "# Test metrics: recon, KL, total (= recon + β·KL), and Relative L1/L2\n",
        "import json\n",
        "\n",
        "def per_sample_rel_errors(xhat, x, eps=1e-12):\n",
        "    diff = (xhat - x)\n",
        "    relL1 = diff.abs().flatten(1).sum(1) / (x.abs().flatten(1).sum(1) + eps)\n",
        "    relL2 = torch.sqrt((diff**2).flatten(1).sum(1)) / (torch.sqrt((x**2).flatten(1).sum(1) + eps))\n",
        "    return relL1, relL2\n",
        "\n",
        "beta_eval = vcfg.BETA  # evaluation uses the target β (no warmup)\n",
        "\n",
        "recon_vals, kl_vals, total_vals = [], [], []\n",
        "relL1_vals, relL2_vals = [], []\n",
        "\n",
        "with torch.no_grad():\n",
        "    for xb, _ in test_loader:\n",
        "        xb = xb.to(device)\n",
        "        xhat, mu, logvar = vae(xb)\n",
        "        # losses\n",
        "        l_recon, _, _ = vae_recon_loss(xhat, xb)\n",
        "        l_kl = vae_kl_loss(mu, logvar)\n",
        "        l_total = l_recon + beta_eval * l_kl\n",
        "        # relative errors\n",
        "        r1, r2 = per_sample_rel_errors(xhat, xb)\n",
        "\n",
        "        recon_vals.append(l_recon.item())\n",
        "        kl_vals.append(l_kl.item())\n",
        "        total_vals.append(l_total.item())\n",
        "        relL1_vals.append(r1.cpu())\n",
        "        relL2_vals.append(r2.cpu())\n",
        "\n",
        "recon_mean  = float(np.mean(recon_vals))\n",
        "kl_mean     = float(np.mean(kl_vals))\n",
        "total_mean  = float(np.mean(total_vals))\n",
        "relL1_mean  = torch.cat(relL1_vals).mean().item()\n",
        "relL2_mean  = torch.cat(relL2_vals).mean().item()\n",
        "\n",
        "print(f\"[TEST] recon: {recon_mean:.6f} | KL: {kl_mean:.6f} | total: {total_mean:.6f} (β={beta_eval})\")\n",
        "print(f\"[TEST] Relative L1: {relL1_mean:.6f} | Relative L2: {relL2_mean:.6f}\")\n",
        "\n",
        "with open(vae_exp_dir / \"test_metrics.json\", \"w\") as f:\n",
        "    json.dump({\n",
        "        \"beta\": beta_eval,\n",
        "        \"recon\": recon_mean, \"kl\": kl_mean, \"total\": total_mean,\n",
        "        \"relL1\": relL1_mean, \"relL2\": relL2_mean\n",
        "    }, f, indent=2)\n",
        "print(\"Saved metrics to:\", (vae_exp_dir / \"test_metrics.json\").resolve())"
      ]
    },
    {
      "cell_type": "code",
      "execution_count": 17,
      "metadata": {},
      "outputs": [
        {
          "name": "stderr",
          "output_type": "stream",
          "text": [
            "/var/folders/cf/v0g4pk7s2sng485qdzddqbhc0000gn/T/ipykernel_15737/2058241223.py:31: DeprecationWarning: 'mode' parameter is deprecated and will be removed in Pillow 13 (2026-10-15)\n",
            "  img = Image.fromarray(self.images[idx], mode=\"L\")\n"
          ]
        },
        {
          "name": "stdout",
          "output_type": "stream",
          "text": [
            "Indices → BEST: 1295 | MEDIAN: 5380 | WORST: 1782\n"
          ]
        },
        {
          "data": {
            "image/png": "[encoded data removed]",
            "text/plain": [
              "<Figure size 300x300 with 1 Axes>"
            ]
          },
          "metadata": {},
          "output_type": "display_data"
        },
        {
          "name": "stdout",
          "output_type": "stream",
          "text": [
            "Saved best pair to: /Users/admin/Documents/workspace/code/github/ae-vae-vqvae/output/vae_20250925_021453/vae_test_best_pair.png\n"
          ]
        },
        {
          "data": {
            "image/png": "[encoded data removed]",
            "text/plain": [
              "<Figure size 300x300 with 1 Axes>"
            ]
          },
          "metadata": {},
          "output_type": "display_data"
        },
        {
          "name": "stdout",
          "output_type": "stream",
          "text": [
            "Saved median pair to: /Users/admin/Documents/workspace/code/github/ae-vae-vqvae/output/vae_20250925_021453/vae_test_median_pair.png\n"
          ]
        },
        {
          "data": {
            "image/png": "[encoded data removed]",
            "text/plain": [
              "<Figure size 300x300 with 1 Axes>"
            ]
          },
          "metadata": {},
          "output_type": "display_data"
        },
        {
          "name": "stdout",
          "output_type": "stream",
          "text": [
            "Saved worst pair to: /Users/admin/Documents/workspace/code/github/ae-vae-vqvae/output/vae_20250925_021453/vae_test_worst_pair.png\n"
          ]
        }
      ],
      "source": [
        "# Visualize worst / median / best reconstructions by Relative L2\n",
        "import matplotlib.pyplot as plt\n",
        "\n",
        "# accumulate all test images/recons & their errors for ranking\n",
        "images, recons, errs = [], [], []\n",
        "with torch.no_grad():\n",
        "    for xb, _ in test_loader:\n",
        "        xb = xb.to(device)\n",
        "        xhat, _, _ = vae(xb)\n",
        "        _, r2 = per_sample_rel_errors(xhat, xb)\n",
        "        images.append(xb.cpu()); recons.append(xhat.cpu()); errs.append(r2.cpu())\n",
        "\n",
        "images = torch.cat(images)   # (N,1,28,28)\n",
        "recons = torch.cat(recons)\n",
        "errs   = torch.cat(errs)\n",
        "\n",
        "worst_idx  = torch.argmax(errs).item()\n",
        "best_idx   = torch.argmin(errs).item()\n",
        "median_val = torch.median(errs).item()\n",
        "median_idx = (errs - median_val).abs().argmin().item()\n",
        "print(\"Indices → BEST:\", best_idx, \"| MEDIAN:\", median_idx, \"| WORST:\", worst_idx)\n",
        "\n",
        "def show_pair(orig, recon, title, save_path=None):\n",
        "    o = inv_normalize(orig).clamp(0,1).squeeze(0)   # (H,W)\n",
        "    r = inv_normalize(recon).clamp(0,1).squeeze(0)  # (H,W)\n",
        "    both = torch.cat([o, r], dim=-1)\n",
        "    plt.figure(figsize=(3,3))\n",
        "    plt.axis('off'); plt.title(title)\n",
        "    plt.imshow(both, cmap='gray')\n",
        "    if save_path is not None:\n",
        "        plt.savefig(save_path, bbox_inches='tight', dpi=160)\n",
        "    plt.show()\n",
        "\n",
        "with torch.no_grad():\n",
        "    for label, idx in [(\"BEST\", best_idx), (\"MEDIAN\", median_idx), (\"WORST\", worst_idx)]:\n",
        "        x  = images[idx:idx+1]\n",
        "        xr = recons[idx:idx+1]\n",
        "        r1, r2 = per_sample_rel_errors(xr, x)\n",
        "        fp = vae_exp_dir / f\"vae_test_{label.lower()}_pair.png\"\n",
        "        show_pair(x[0], xr[0], f\"{label} — RelL1={r1.item():.4f} | RelL2={r2.item():.4f}\", fp)\n",
        "        print(f\"Saved {label.lower()} pair to:\", fp.resolve())"
      ]
    },
    {
      "cell_type": "code",
      "execution_count": null,
      "metadata": {},
      "outputs": [],
      "source": [
        "# Samples from the prior z ~ N(0, I)\n",
        "from torchvision.utils import make_grid\n",
        "\n",
        "vae.eval()\n",
        "n = 64  # 8x8 grid\n",
        "with torch.no_grad():\n",
        "    z = torch.randn(n, vcfg.LATENT_DIM, device=device)\n",
        "    samples = vae.decode(z).cpu()                 # in [-1,1]\n",
        "    samples_vis = inv_normalize(samples).clamp(0,1)\n",
        "\n",
        "grid = make_grid(samples_vis, nrow=8, padding=2)\n",
        "plt.figure(figsize=(6,6))\n",
        "plt.axis('off'); plt.title(\"VAE samples — prior z ~ N(0, I)\")\n",
        "plt.imshow(np.transpose(grid.numpy(), (1,2,0)), cmap='gray')\n",
        "plt.show()\n",
        "\n",
        "fp = vae_exp_dir / \"vae_samples_prior.png\"\n",
        "plt.imsave(fp, np.transpose(grid.numpy(), (1,2,0)))\n",
        "print(\"Saved prior samples grid to:\", fp.resolve())"
      ]
    }
  ],
  "metadata": {
    "colab": {
      "provenance": []
    },
    "kernelspec": {
      "display_name": "ae-vae-vqvae",
      "language": "python",
      "name": "python3"
    },
    "language_info": {
      "codemirror_mode": {
        "name": "ipython",
        "version": 3
      },
      "file_extension": ".py",
      "mimetype": "text/x-python",
      "name": "python",
      "nbconvert_exporter": "python",
      "pygments_lexer": "ipython3",
      "version": "3.11.9"
    }
  },
  "nbformat": 4,
  "nbformat_minor": 0
}
